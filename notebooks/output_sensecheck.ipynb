{
 "cells": [
  {
   "cell_type": "code",
   "execution_count": 2,
   "metadata": {},
   "outputs": [],
   "source": [
    "import numpy as np"
   ]
  },
  {
   "cell_type": "code",
   "execution_count": 4,
   "metadata": {},
   "outputs": [],
   "source": [
    "home = '/Users/georgelamb/Documents/'"
   ]
  },
  {
   "cell_type": "code",
   "execution_count": 51,
   "metadata": {},
   "outputs": [],
   "source": [
    "preds = np.load(home + 'results/map/model_0/preds_0.npz')['arr_0']\n",
    "noise = np.load(home + 'results/map/model_0/noise_0.npz')['arr_0']"
   ]
  },
  {
   "cell_type": "code",
   "execution_count": 68,
   "metadata": {},
   "outputs": [
    {
     "data": {
      "text/plain": [
       "array([1.29048534e+00, 7.96507940e+00, 2.37178693e-02, 4.61586070e-02,\n",
       "       4.70984581e-02, 2.26189681e+02, 2.79943138e-02, 3.18019670e+00,\n",
       "       4.02420478e+01, 4.02480952e+01, 4.02592313e+01, 4.02991396e+01])"
      ]
     },
     "execution_count": 68,
     "metadata": {},
     "output_type": "execute_result"
    }
   ],
   "source": [
    "np.std(preds,0)"
   ]
  },
  {
   "cell_type": "code",
   "execution_count": 69,
   "metadata": {},
   "outputs": [
    {
     "data": {
      "text/plain": [
       "array([6.17819833e-01, 1.67945724e+00, 6.70791284e-03, 7.16281282e-03,\n",
       "       9.63725384e-03, 5.26713666e+01, 3.83006194e-03, 7.04942714e-01,\n",
       "       7.55463938e+00, 7.53493268e+00, 7.53952636e+00, 7.55817154e+00])"
      ]
     },
     "execution_count": 69,
     "metadata": {},
     "output_type": "execute_result"
    }
   ],
   "source": [
    "noise"
   ]
  },
  {
   "cell_type": "code",
   "execution_count": 2,
   "metadata": {},
   "outputs": [
    {
     "name": "stdout",
     "output_type": "stream",
     "text": [
      "0\n",
      "1\n",
      "2\n",
      "3\n",
      "4\n"
     ]
    }
   ],
   "source": [
    "for i in range(0,5):\n",
    "    print(i)"
   ]
  },
  {
   "cell_type": "code",
   "execution_count": 5,
   "metadata": {},
   "outputs": [],
   "source": [
    "cat = np.load(home + 'results/dun/model_0/cat_0.npz')['arr_0']"
   ]
  },
  {
   "cell_type": "code",
   "execution_count": 6,
   "metadata": {},
   "outputs": [
    {
     "data": {
      "text/plain": [
       "array([0.20882323, 0.2707186 , 0.2818085 , 0.23864964], dtype=float32)"
      ]
     },
     "execution_count": 6,
     "metadata": {},
     "output_type": "execute_result"
    }
   ],
   "source": [
    "cat"
   ]
  },
  {
   "cell_type": "code",
   "execution_count": 7,
   "metadata": {},
   "outputs": [
    {
     "data": {
      "text/plain": [
       "1.0"
      ]
     },
     "execution_count": 7,
     "metadata": {},
     "output_type": "execute_result"
    }
   ],
   "source": [
    "np.sum(cat)"
   ]
  },
  {
   "cell_type": "code",
   "execution_count": 7,
   "metadata": {},
   "outputs": [
    {
     "data": {
      "text/plain": [
       "array([[2.38628296e+00, 1.45031135e+01, 4.11650953e-02, ...,\n",
       "        7.88959303e+01, 7.88939058e+01, 7.88981180e+01],\n",
       "       [2.38769769e+00, 1.45110509e+01, 4.11877558e-02, ...,\n",
       "        7.89369835e+01, 7.89368268e+01, 7.89403682e+01],\n",
       "       [2.38542159e+00, 1.44980600e+01, 4.11503383e-02, ...,\n",
       "        7.88619827e+01, 7.88613166e+01, 7.88664547e+01],\n",
       "       ...,\n",
       "       [2.38807819e+00, 1.45138111e+01, 4.11946367e-02, ...,\n",
       "        7.89495555e+01, 7.89503000e+01, 7.89544756e+01],\n",
       "       [2.37909272e+00, 1.44583946e+01, 4.10403691e-02, ...,\n",
       "        7.86512960e+01, 7.86531116e+01, 7.86548768e+01],\n",
       "       [2.38940837e+00, 1.45214376e+01, 4.12180026e-02, ...,\n",
       "        7.89943313e+01, 7.89948734e+01, 7.89978950e+01]])"
      ]
     },
     "execution_count": 7,
     "metadata": {},
     "output_type": "execute_result"
    }
   ],
   "source": [
    "#### GP\n",
    "\n",
    "preds = np.load(home + 'results/gp/model_0/predsSTDEV_0.npz')['arr_0']\n",
    "preds"
   ]
  },
  {
   "cell_type": "code",
   "execution_count": null,
   "metadata": {},
   "outputs": [],
   "source": []
  }
 ],
 "metadata": {
  "kernelspec": {
   "display_name": "Python 3",
   "language": "python",
   "name": "python3"
  },
  "language_info": {
   "codemirror_mode": {
    "name": "ipython",
    "version": 3
   },
   "file_extension": ".py",
   "mimetype": "text/x-python",
   "name": "python",
   "nbconvert_exporter": "python",
   "pygments_lexer": "ipython3",
   "version": "3.7.6"
  }
 },
 "nbformat": 4,
 "nbformat_minor": 4
}
